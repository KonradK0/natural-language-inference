{
  "nbformat": 4,
  "nbformat_minor": 0,
  "metadata": {
    "colab": {
      "name": "NaturalLanguageInference.ipynb",
      "provenance": [],
      "collapsed_sections": []
    },
    "kernelspec": {
      "name": "python3",
      "display_name": "Python 3"
    },
    "accelerator": "GPU"
  },
  "cells": [
    {
      "cell_type": "code",
      "metadata": {
        "id": "86_6OsLD3RiJ",
        "colab": {
          "base_uri": "https://localhost:8080/",
          "height": 34
        },
        "outputId": "98858e38-fe74-447e-d7c8-552210b231d2"
      },
      "source": [
        "from google.colab import drive\n",
        "drive.mount('/content/drive')"
      ],
      "execution_count": null,
      "outputs": [
        {
          "output_type": "stream",
          "text": [
            "Drive already mounted at /content/drive; to attempt to forcibly remount, call drive.mount(\"/content/drive\", force_remount=True).\n"
          ],
          "name": "stdout"
        }
      ]
    },
    {
      "cell_type": "code",
      "metadata": {
        "id": "Xb4KfBtB9HFk"
      },
      "source": [
        "# http://pytorch.org/\n",
        "from os.path import exists\n",
        "from wheel.pep425tags import get_abbr_impl, get_impl_ver, get_abi_tag\n",
        "platform = '{}{}-{}'.format(get_abbr_impl(), get_impl_ver(), get_abi_tag())\n",
        "cuda_output = !ldconfig -p|grep cudart.so|sed -e 's/.*\\.\\([0-9]*\\)\\.\\([0-9]*\\)$/cu\\1\\2/'\n",
        "accelerator = cuda_output[0] if exists('/dev/nvidia0') else 'cpu'\n",
        "\n",
        "!pip install -q http://download.pytorch.org/whl/{accelerator}/torch-0.4.1-{platform}-linux_x86_64.whl torchvision\n",
        "import torch"
      ],
      "execution_count": null,
      "outputs": []
    },
    {
      "cell_type": "code",
      "metadata": {
        "id": "cHqKF73Bo0e8",
        "colab": {
          "base_uri": "https://localhost:8080/",
          "height": 427
        },
        "outputId": "fe1b4c88-9fe5-4075-afd5-e96bdc90a623"
      },
      "source": [
        "# Oświadczam, że zadanie zostało wykonane samodzielnie\n",
        "\n",
        "import os\n",
        "\n",
        "from collections import OrderedDict\n",
        "import nltk\n",
        "nltk.download('punkt')\n",
        "from nltk.tokenize import word_tokenize\n",
        "import pandas as pd\n",
        "import numpy as np\n",
        "import csv\n",
        "\n",
        "\n",
        "def load_dataset(file):\n",
        "    df = pd.read_csv(os.path.join('drive', 'My Drive', 'nlp-classes', 'project', 'dataset', file), sep='\t', usecols=['gold_label', 'sentence1', 'sentence2'])\n",
        "    return df.loc[df['gold_label'] != '-'], df.loc[df['gold_label'] == '-']\n",
        "\n",
        "\n",
        "def _load_embeddings(snli_words, embeddings_dim=200):\n",
        "    with open(os.path.join('drive', 'My Drive', 'nlp-classes', 'project', 'dataset', 'word_vectors.txt'), encoding='utf8') as csv_file:\n",
        "        csv_reader = csv.reader(csv_file, delimiter=' ', quoting=csv.QUOTE_NONE)\n",
        "        snli_words_set = set(snli_words)\n",
        "        embeddings = OrderedDict()\n",
        "        embeddings['<pad>'] = np.random.randint(0, 2, embeddings_dim)\n",
        "        embeddings['<bos>'] = np.random.randint(0, 2, embeddings_dim)\n",
        "        embeddings['<eos>'] = np.random.randint(0, 2, embeddings_dim)\n",
        "        embeddings['<unk>'] = np.random.randint(0, 2, embeddings_dim)\n",
        "        for row in csv_reader:\n",
        "            word = row[0]\n",
        "            if word in snli_words_set:\n",
        "                embeddings[word] = np.array(row[1:], dtype=float)\n",
        "        return embeddings\n",
        "\n",
        "\n",
        "def _get_unk(sent, embeddings):\n",
        "    return [word for word in sent.split() if word not in embeddings]\n",
        "\n",
        "\n",
        "def _tokenize_sentences(df):\n",
        "    df_copy = df.copy()\n",
        "    df_copy['sentence1'] = df_copy['sentence1'].map(\n",
        "        lambda s: np.array(['<bos>'] + word_tokenize(s.lower()) + ['<eos>']))\n",
        "    df_copy['sentence2'] = df_copy['sentence2'].map(\n",
        "        lambda s: np.array(['<bos>'] + word_tokenize(s.lower()) + ['<eos>']))\n",
        "    return df_copy\n",
        "\n",
        "\n",
        "def _get_snli_words(df):\n",
        "    all_sent = pd.concat([df['sentence1'], df['sentence2']])\n",
        "    words = set()\n",
        "    for sent in all_sent:\n",
        "        words |= set(sent)\n",
        "    return words\n",
        "\n",
        "\n",
        "def _map_unks(sentences, unks):\n",
        "    sentences['sentence1'] = sentences['sentence1'].map(\n",
        "        lambda l: np.array([x if x not in unks else '<unk>' for x in l]))\n",
        "    sentences['sentence2'] = sentences['sentence2'].map(\n",
        "        lambda l: np.array([x if x not in unks else '<unk>' for x in l]))\n",
        "    return sentences\n",
        "\n",
        "\n",
        "def prepare_dataset(file, verbose=False):\n",
        "    clear, unclear = load_dataset(file)\n",
        "    if verbose:\n",
        "        display(unclear.head(10))\n",
        "    sentences = _tokenize_sentences(clear)\n",
        "    snli_words = _get_snli_words(sentences)\n",
        "    embeddings = _load_embeddings(snli_words)\n",
        "    unks = snli_words - embeddings.keys()\n",
        "    if verbose:\n",
        "        print(f'All words count (unique): {len(snli_words)}')\n",
        "        print(f'Unknown count (unique): {len(unks)}')\n",
        "    prepared = _map_unks(sentences, unks)\n",
        "    return prepared, embeddings\n",
        "\n",
        "tr_set, tr_emb = prepare_dataset('train.txt', verbose=True)\n"
      ],
      "execution_count": null,
      "outputs": [
        {
          "output_type": "stream",
          "text": [
            "[nltk_data] Downloading package punkt to /root/nltk_data...\n",
            "[nltk_data]   Package punkt is already up-to-date!\n"
          ],
          "name": "stdout"
        },
        {
          "output_type": "display_data",
          "data": {
            "text/html": [
              "<div>\n",
              "<style scoped>\n",
              "    .dataframe tbody tr th:only-of-type {\n",
              "        vertical-align: middle;\n",
              "    }\n",
              "\n",
              "    .dataframe tbody tr th {\n",
              "        vertical-align: top;\n",
              "    }\n",
              "\n",
              "    .dataframe thead th {\n",
              "        text-align: right;\n",
              "    }\n",
              "</style>\n",
              "<table border=\"1\" class=\"dataframe\">\n",
              "  <thead>\n",
              "    <tr style=\"text-align: right;\">\n",
              "      <th></th>\n",
              "      <th>gold_label</th>\n",
              "      <th>sentence1</th>\n",
              "      <th>sentence2</th>\n",
              "    </tr>\n",
              "  </thead>\n",
              "  <tbody>\n",
              "    <tr>\n",
              "      <th>156</th>\n",
              "      <td>-</td>\n",
              "      <td>A woman wearing a pink hat is looking at a pin...</td>\n",
              "      <td>The woman is wearing clothes.</td>\n",
              "    </tr>\n",
              "    <tr>\n",
              "      <th>518</th>\n",
              "      <td>-</td>\n",
              "      <td>A man in a white jacket standing in front of a...</td>\n",
              "      <td>The man was playing crochet with the two women.</td>\n",
              "    </tr>\n",
              "    <tr>\n",
              "      <th>1250</th>\n",
              "      <td>-</td>\n",
              "      <td>A man with red earphones is working on a red a...</td>\n",
              "      <td>A man in earphones is fixing a broken hotrod.</td>\n",
              "    </tr>\n",
              "    <tr>\n",
              "      <th>2082</th>\n",
              "      <td>-</td>\n",
              "      <td>A boy and a girl are walking in a mall.</td>\n",
              "      <td>A girl and a boy walking inside</td>\n",
              "    </tr>\n",
              "    <tr>\n",
              "      <th>2186</th>\n",
              "      <td>-</td>\n",
              "      <td>A man with sunglasses on his head is standing ...</td>\n",
              "      <td>A guy and his pets are waiting by the terminal.</td>\n",
              "    </tr>\n",
              "    <tr>\n",
              "      <th>2367</th>\n",
              "      <td>-</td>\n",
              "      <td>People relaxing under green umbrella's with a ...</td>\n",
              "      <td>The folk is hiding from the sun under green um...</td>\n",
              "    </tr>\n",
              "    <tr>\n",
              "      <th>2995</th>\n",
              "      <td>-</td>\n",
              "      <td>The girl in the pink top is riding a skateboar...</td>\n",
              "      <td>The girl is skateboarding outside.</td>\n",
              "    </tr>\n",
              "    <tr>\n",
              "      <th>3220</th>\n",
              "      <td>-</td>\n",
              "      <td>A man is carving a large eagle out of wood in ...</td>\n",
              "      <td>The man is an artist.</td>\n",
              "    </tr>\n",
              "    <tr>\n",
              "      <th>3677</th>\n",
              "      <td>-</td>\n",
              "      <td>Men and women wearing white swim caps giving e...</td>\n",
              "      <td>Men and women joking around.</td>\n",
              "    </tr>\n",
              "    <tr>\n",
              "      <th>4357</th>\n",
              "      <td>-</td>\n",
              "      <td>A old man in a green shirt sits on the curb ho...</td>\n",
              "      <td>An old man holds a digital camera and sits on ...</td>\n",
              "    </tr>\n",
              "  </tbody>\n",
              "</table>\n",
              "</div>"
            ],
            "text/plain": [
              "     gold_label                                          sentence1  \\\n",
              "156           -  A woman wearing a pink hat is looking at a pin...   \n",
              "518           -  A man in a white jacket standing in front of a...   \n",
              "1250          -  A man with red earphones is working on a red a...   \n",
              "2082          -            A boy and a girl are walking in a mall.   \n",
              "2186          -  A man with sunglasses on his head is standing ...   \n",
              "2367          -  People relaxing under green umbrella's with a ...   \n",
              "2995          -  The girl in the pink top is riding a skateboar...   \n",
              "3220          -  A man is carving a large eagle out of wood in ...   \n",
              "3677          -  Men and women wearing white swim caps giving e...   \n",
              "4357          -  A old man in a green shirt sits on the curb ho...   \n",
              "\n",
              "                                              sentence2  \n",
              "156                       The woman is wearing clothes.  \n",
              "518     The man was playing crochet with the two women.  \n",
              "1250      A man in earphones is fixing a broken hotrod.  \n",
              "2082                    A girl and a boy walking inside  \n",
              "2186    A guy and his pets are waiting by the terminal.  \n",
              "2367  The folk is hiding from the sun under green um...  \n",
              "2995                 The girl is skateboarding outside.  \n",
              "3220                              The man is an artist.  \n",
              "3677                       Men and women joking around.  \n",
              "4357  An old man holds a digital camera and sits on ...  "
            ]
          },
          "metadata": {
            "tags": []
          }
        },
        {
          "output_type": "stream",
          "text": [
            "All words count (unique): 22567\n",
            "Unknown count (unique): 3178\n"
          ],
          "name": "stdout"
        }
      ]
    },
    {
      "cell_type": "code",
      "metadata": {
        "id": "zkReF1feC2ej",
        "colab": {
          "base_uri": "https://localhost:8080/",
          "height": 34
        },
        "outputId": "a0a6a494-9164-46f6-b446-f02b2bd2c9b9"
      },
      "source": [
        "import torch\n",
        "print(torch.cuda.is_available())"
      ],
      "execution_count": null,
      "outputs": [
        {
          "output_type": "stream",
          "text": [
            "True\n"
          ],
          "name": "stdout"
        }
      ]
    },
    {
      "cell_type": "code",
      "metadata": {
        "id": "HsSqIEVE8xFj"
      },
      "source": [
        "tr_set, tr_emb = prepare_dataset('train.txt')\n",
        "val_set, val_emb = prepare_dataset('dev.txt')"
      ],
      "execution_count": null,
      "outputs": []
    },
    {
      "cell_type": "code",
      "metadata": {
        "id": "_dds22QvxY-K"
      },
      "source": [
        "import gc\n",
        "import torch\n",
        "import torch.nn as nn\n",
        "import torch.optim as optim\n",
        "from torch.autograd import Variable\n",
        "import datetime\n",
        "\n",
        "\n",
        "def get_words_mapping(embeddings):\n",
        "    word2idx = {key: i for i, key in enumerate(embeddings.keys())}\n",
        "    idx2word = {i: key for i, key in enumerate(embeddings.keys())}\n",
        "    return word2idx, idx2word\n",
        "\n",
        "\n",
        "def get_embeddings_tensor(embeddings):\n",
        "    return torch.Tensor(list(embeddings.values())).cuda()\n",
        "\n",
        "\n",
        "class NaturalLanguageInference(nn.Module):\n",
        "\n",
        "    def __init__(self, lstm_hidden_dim, embeddings, fully_connected_hidden_dim, embedding_dim=200, out_dim=3,\n",
        "                 batch_size=32):\n",
        "        super(NaturalLanguageInference, self).__init__()\n",
        "        self.batch_size = batch_size\n",
        "        self.lstm_hidden_dim = lstm_hidden_dim\n",
        "        self.lstm_hidden = self.init_hidden()\n",
        "        self.out_dim = out_dim\n",
        "        self.fully_connected_hidden_dim = fully_connected_hidden_dim\n",
        "        self.batch_size = batch_size\n",
        "        self.embedding_dim = embedding_dim\n",
        "        embeddings_tensor = get_embeddings_tensor(embeddings)\n",
        "        self.embeddings = nn.Embedding.from_pretrained(embeddings=embeddings_tensor)\n",
        "        self.word2idx, self.idx2word = get_words_mapping(embeddings)\n",
        "        self.lstm = nn.LSTM(embedding_dim, lstm_hidden_dim, batch_first=True).cuda()\n",
        "        self.fully_connected = nn.Sequential(nn.Linear(2 * self.embedding_dim, self.fully_connected_hidden_dim),\n",
        "                                             nn.ReLU(),\n",
        "                                             nn.Linear(self.fully_connected_hidden_dim, self.out_dim),\n",
        "                                             nn.LogSoftmax(dim=1)).cuda()\n",
        "\n",
        "    def init_hidden(self):\n",
        "        return Variable(torch.zeros(1, self.batch_size, self.lstm_hidden_dim).cuda()), Variable(torch.zeros(1, self.batch_size, self.lstm_hidden_dim).cuda())\n",
        "\n",
        "    def forward(self, batch_sent1, batch_sent2):\n",
        "        self.lstm_hidden = self.init_hidden()\n",
        "        batch1_tensor, batch2_tensor = self.get_batch_embedding(pd.concat([batch_sent1, batch_sent2], ignore_index=True))\n",
        "        lstm1, _ = self.lstm(batch1_tensor, self.lstm_hidden)\n",
        "        lstm2, _ = self.lstm(batch2_tensor, self.lstm_hidden)\n",
        "        lstm_out_concat = torch.cat((lstm1[:, -1, :], lstm2[:, -1, :]), 1).cuda()\n",
        "        return self.fully_connected(lstm_out_concat)\n",
        "\n",
        "    def get_batch_embedding(self, batch_sent):\n",
        "        tensors = []\n",
        "        for i, sent in enumerate(batch_sent.values):\n",
        "            sent_emb = [self.embeddings(torch.LongTensor([self.word2idx.get(word, 3)]).cuda()) for word in sent]\n",
        "            tensors.append(torch.stack(sent_emb).cuda())\n",
        "        padded = nn.utils.rnn.pad_sequence(tensors, batch_first=True).view(len(batch_sent), -1, self.embedding_dim).cuda()\n",
        "        return padded[:self.batch_size].cuda(), padded[self.batch_size:].cuda()\n",
        "\n",
        "\n",
        "def batched(data, batch_size=32, seed=43):\n",
        "    rng = np.random.RandomState(seed=seed)\n",
        "    indexes = rng.choice(len(data), size=batch_size, replace=False)\n",
        "    return data.iloc[indexes]\n",
        "\n",
        "def score(pred_probs, actual):\n",
        "    pred = torch.argmax(pred_probs, dim=1)\n",
        "    return torch.sum(actual == pred).sum().item() / len(actual)\n",
        "\n",
        "def save_model(model, file):\n",
        "  torch.save(model.state_dict(), os.path.join('drive', 'My Drive', 'nlp-classes', 'project', file))\n",
        "  \n",
        "def load_model(file):\n",
        "  return torch.load(os.path.join('drive', 'My Drive', 'nlp-classes', 'project', file))\n",
        "\n",
        "out2idx = {'neutral': 0, 'contradiction': 1, 'entailment': 2}\n",
        "idx2out = {0: 'neutral', 1: 'contradiction', 2: 'entailment'}\n",
        "\n",
        "MAX_EPOCHS = 5\n",
        "BATCH_SIZE = 32\n",
        "TRAINING_LEN = len(tr_set)\n",
        "VAL_LEN = len(val_set)\n"
      ],
      "execution_count": null,
      "outputs": []
    },
    {
      "cell_type": "code",
      "metadata": {
        "id": "WtVrEH1wU1Oj",
        "colab": {
          "base_uri": "https://localhost:8080/",
          "height": 459
        },
        "outputId": "e519e883-afa0-49f2-f1a5-f80998fd0c1d"
      },
      "source": [
        "import time\n",
        "model = NaturalLanguageInference(lstm_hidden_dim=200, embeddings=tr_emb, fully_connected_hidden_dim=200, batch_size=BATCH_SIZE).cuda()\n",
        "loss_function = nn.NLLLoss()\n",
        "optimizer = optim.Adam(model.parameters())\n",
        "\n",
        "best_score = -1\n",
        "scores_per_epoch = []\n",
        "losses_on_training_per_epoch = []\n",
        "losses_on_test_per_epoch = []\n",
        "print(f'Iters per epoch: {TRAINING_LEN // BATCH_SIZE}')\n",
        "for epoch in range(MAX_EPOCHS):\n",
        "    print(f'{datetime.datetime.now()} Starting epoch {epoch}')\n",
        "    loss_on_training_per_epoch = 0\n",
        "    for iteration in range(TRAINING_LEN // BATCH_SIZE):\n",
        "#         print(f'\\tIteration: {iteration}')\n",
        "        model.zero_grad()\n",
        "\n",
        "        batch = batched(tr_set, batch_size=BATCH_SIZE, seed=int(round(time.time() * 1000)) % (2**32 - 1))\n",
        "        sent1_batch = batch['sentence1']\n",
        "        sent2_batch = batch['sentence2']\n",
        "        out = np.array([out2idx[gold_label] for gold_label in batch['gold_label']])\n",
        "        log_probs = model(sent1_batch, sent2_batch)\n",
        "        target = torch.LongTensor(out).cuda()\n",
        "        loss = loss_function(log_probs, target)\n",
        "        loss.backward()\n",
        "        optimizer.step()\n",
        "        loss_on_training_per_epoch += loss.item()\n",
        "        gc.collect()\n",
        "    losses_on_training_per_epoch.append(loss_on_training_per_epoch)\n",
        "    print('\\tTraining phase ended')\n",
        "    with torch.no_grad():\n",
        "        scores = []\n",
        "        loss_on_test_per_epoch = 0\n",
        "        for _ in range(VAL_LEN // BATCH_SIZE):\n",
        "            val_batch = batched(val_set, seed=int(round(time.time() * 1000)) % (2**32 - 1))\n",
        "            sent1_val_batch = val_batch['sentence1']\n",
        "            sent2_val_batch = val_batch['sentence2']\n",
        "            val_out = np.array([out2idx[gold_label] for gold_label in val_batch['gold_label']])\n",
        "            log_probs = model(sent1_val_batch, sent2_val_batch)\n",
        "            val_target = torch.LongTensor(val_out).cuda()\n",
        "            loss = loss_function(log_probs, val_target).item()\n",
        "            loss_on_test_per_epoch += loss\n",
        "            scores.append(score(log_probs, val_out))\n",
        "            gc.collect()\n",
        "        acc = np.mean(scores)\n",
        "        losses_on_test_per_epoch.append(loss_on_test_per_epoch)\n",
        "        scores_per_epoch.append(acc)\n",
        "        save_model(model, f'model_epoch{epoch}')\n",
        "        print(f'\\tLoss on training on epoch {epoch}: {loss_on_training_per_epoch / TRAINING_LEN}')\n",
        "        print(f'\\tLoss on test on epoch {epoch}: {loss_on_test_per_epoch / VAL_LEN}')\n",
        "        print(f'\\tAccuracy on epoch {epoch}: {acc}')"
      ],
      "execution_count": null,
      "outputs": [
        {
          "output_type": "stream",
          "text": [
            "Iters per epoch: 3433\n",
            "2019-01-25 12:52:46.405694 Starting epoch 0\n",
            "\tTraining phase ended\n",
            "\tLoss on training on epoch 0: 0.032122889385413314\n",
            "\tLoss on test on epoch 0: 0.029006593282134084\n",
            "\tAccuracy on epoch 0: 0.5632125407166124\n",
            "2019-01-25 13:02:21.934766 Starting epoch 1\n",
            "\tTraining phase ended\n",
            "\tLoss on training on epoch 1: 0.026176650243148483\n",
            "\tLoss on test on epoch 1: 0.025227563964039107\n",
            "\tAccuracy on epoch 1: 0.6375203583061889\n",
            "2019-01-25 13:11:56.336838 Starting epoch 2\n",
            "\tTraining phase ended\n",
            "\tLoss on training on epoch 2: 0.023366152284290034\n",
            "\tLoss on test on epoch 2: 0.0252936306407456\n",
            "\tAccuracy on epoch 2: 0.6374185667752443\n",
            "2019-01-25 13:21:32.470279 Starting epoch 3\n",
            "\tTraining phase ended\n",
            "\tLoss on training on epoch 3: 0.021584272947504278\n",
            "\tLoss on test on epoch 3: 0.025618222780378824\n",
            "\tAccuracy on epoch 3: 0.6482084690553745\n",
            "2019-01-25 13:31:21.644951 Starting epoch 4\n",
            "\tTraining phase ended\n",
            "\tLoss on training on epoch 4: 0.019891523962081985\n",
            "\tLoss on test on epoch 4: 0.025103861082620044\n",
            "\tAccuracy on epoch 4: 0.6549267100977199\n"
          ],
          "name": "stdout"
        }
      ]
    },
    {
      "cell_type": "code",
      "metadata": {
        "id": "-PIDSVKK9Clo",
        "colab": {
          "base_uri": "https://localhost:8080/",
          "height": 280
        },
        "outputId": "6b79aaf1-0304-411f-aec3-e8d4c79fe563"
      },
      "source": [
        "import matplotlib\n",
        "import matplotlib.pyplot as plt\n",
        "\n",
        "%matplotlib inline\n",
        "\n",
        "scores_per_epoch = np.array(scores_per_epoch)\n",
        "losses_on_training_per_epoch = np.array(losses_on_training_per_epoch)\n",
        "losses_on_test_per_epoch = np.array(losses_on_test_per_epoch)\n",
        "\n",
        "plt.plot(losses_on_training_per_epoch, 'b-', label='Loss on training')\n",
        "plt.plot(losses_on_test_per_epoch, 'r-', label='Loss on test')\n",
        "plt.legend()\n",
        "plt.title('Loss per epoch')\n",
        "plt.show()"
      ],
      "execution_count": null,
      "outputs": [
        {
          "output_type": "display_data",
          "data": {
            "image/png": "[encoded data removed]",
            "text/plain": [
              "<Figure size 432x288 with 1 Axes>"
            ]
          },
          "metadata": {
            "tags": []
          }
        }
      ]
    },
    {
      "cell_type": "code",
      "metadata": {
        "id": "6FZFYNG7UQji",
        "colab": {
          "base_uri": "https://localhost:8080/",
          "height": 280
        },
        "outputId": "2c5831af-aa35-43a7-c535-28b9abf5f062"
      },
      "source": [
        "plt.plot(scores_per_epoch)\n",
        "plt.title('Score per epoch')\n",
        "plt.show()"
      ],
      "execution_count": null,
      "outputs": [
        {
          "output_type": "display_data",
          "data": {
            "image/png": "[encoded data removed]",
            "text/plain": [
              "<Figure size 432x288 with 1 Axes>"
            ]
          },
          "metadata": {
            "tags": []
          }
        }
      ]
    },
    {
      "cell_type": "code",
      "metadata": {
        "id": "eHE-dNeDJ--6",
        "colab": {
          "base_uri": "https://localhost:8080/",
          "height": 187
        },
        "outputId": "b2501b5b-c20b-4c51-d321-e6b6f90932ba"
      },
      "source": [
        "loaded_model = NaturalLanguageInference(lstm_hidden_dim=200, embeddings=tr_emb, fully_connected_hidden_dim=200, batch_size=BATCH_SIZE).cuda()\n",
        "loaded_model.load_state_dict(torch.load(os.path.join('drive', 'My Drive', 'nlp-classes', 'project', 'model_epoch4')))\n",
        "loaded_model.eval()"
      ],
      "execution_count": null,
      "outputs": [
        {
          "output_type": "execute_result",
          "data": {
            "text/plain": [
              "NaturalLanguageInference(\n",
              "  (embeddings): Embedding(19391, 200)\n",
              "  (lstm): LSTM(200, 200, batch_first=True)\n",
              "  (fully_connected): Sequential(\n",
              "    (0): Linear(in_features=400, out_features=200, bias=True)\n",
              "    (1): ReLU()\n",
              "    (2): Linear(in_features=200, out_features=3, bias=True)\n",
              "    (3): LogSoftmax()\n",
              "  )\n",
              ")"
            ]
          },
          "metadata": {
            "tags": []
          },
          "execution_count": 53
        }
      ]
    },
    {
      "cell_type": "code",
      "metadata": {
        "id": "8qZxRVaR-Ed1"
      },
      "source": [
        "test_set, test_emb = prepare_dataset('test.txt')"
      ],
      "execution_count": null,
      "outputs": []
    },
    {
      "cell_type": "code",
      "metadata": {
        "id": "SoPacPTBKc77",
        "colab": {
          "base_uri": "https://localhost:8080/",
          "height": 34
        },
        "outputId": "b3f6804e-afa6-44bf-b7b8-adbedfb0a3fd"
      },
      "source": [
        "TEST_LEN = len(test_set)\n",
        "with torch.no_grad():\n",
        "    scores = []\n",
        "    for _ in range(TEST_LEN // BATCH_SIZE):\n",
        "        test_batch = batched(test_set, seed=int(round(time.time() * 1000)) % (2**32 - 1))\n",
        "#         display(test_batch)\n",
        "        sent1_test_batch = test_batch['sentence1']\n",
        "        sent2_test_batch = test_batch['sentence2']\n",
        "        test_out = np.array([out2idx[gold_label] for gold_label in test_batch['gold_label']])\n",
        "        log_probs = loaded_model(sent1_test_batch, sent2_test_batch)\n",
        "        test_target = torch.LongTensor(test_out).cuda()\n",
        "        loss = loss_function(log_probs, test_target)\n",
        "        scores.append(score(log_probs, test_target))\n",
        "        gc.collect()\n",
        "    acc = np.mean(scores)\n",
        "    print(f'Accuracy on test: {acc}')\n"
      ],
      "execution_count": null,
      "outputs": [
        {
          "output_type": "stream",
          "text": [
            "Accuracy on test: 0.6614413680781759\n"
          ],
          "name": "stdout"
        }
      ]
    },
    {
      "cell_type": "code",
      "metadata": {
        "id": "__LbQmtw9FrN"
      },
      "source": [
        ""
      ],
      "execution_count": null,
      "outputs": []
    }
  ]
}